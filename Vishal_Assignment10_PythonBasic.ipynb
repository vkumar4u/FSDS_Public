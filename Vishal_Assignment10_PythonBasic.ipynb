{
 "cells": [
  {
   "cell_type": "markdown",
   "metadata": {},
   "source": [
    "1. How do you distinguish between shutil.copy() and shutil.copytree()?"
   ]
  },
  {
   "cell_type": "markdown",
   "metadata": {},
   "source": [
    "shutil.copy can be used to copy file and folder while shutil.copytree can be used to copy folders recursively"
   ]
  },
  {
   "cell_type": "markdown",
   "metadata": {},
   "source": [
    "2. What function is used to rename files??"
   ]
  },
  {
   "cell_type": "markdown",
   "metadata": {},
   "source": [
    "move()"
   ]
  },
  {
   "cell_type": "markdown",
   "metadata": {},
   "source": [
    "3. What is the difference between the delete functions in the send2trash and shutil modules?"
   ]
  },
  {
   "cell_type": "markdown",
   "metadata": {},
   "source": [
    "send2trash function can be used to delete the files/folders and those files/folders can be restored from Recycle Bins while files/fodlers deleted using shutil module are unrecoverable"
   ]
  },
  {
   "cell_type": "markdown",
   "metadata": {},
   "source": [
    "4. ZipFile objects have a close() method just like File objects’ close() method. What ZipFile method is equivalent to File objects’ open() method?"
   ]
  },
  {
   "cell_type": "markdown",
   "metadata": {},
   "source": [
    "ZipFile()"
   ]
  },
  {
   "cell_type": "markdown",
   "metadata": {},
   "source": [
    "5. Create a programme that searches a folder tree for files with a certain file extension (such as .pdf or .jpg). Copy these files from whatever location they are in to a new folder."
   ]
  },
  {
   "cell_type": "code",
   "execution_count": null,
   "metadata": {},
   "outputs": [],
   "source": [
    "import os\n",
    "import shutil\n",
    "dirpath = \"C:\\\\Users\\\\Assignment10\"\n",
    "destpath = \"C:\\\\Users\\\\Assignment11\"\n",
    "for foldername, subfodlername, filename in os.walk(dirpath):\n",
    "    for i in filename:       \n",
    "        if i.endswith(\".jpg\"):            \n",
    "            shutil.copy(str(foldername)  + \"\\\\\" + str(i), destpath)\n",
    "            "
   ]
  }
 ],
 "metadata": {
  "kernelspec": {
   "display_name": "Python 3.9.5 64-bit",
   "language": "python",
   "name": "python3"
  },
  "language_info": {
   "codemirror_mode": {
    "name": "ipython",
    "version": 3
   },
   "file_extension": ".py",
   "mimetype": "text/x-python",
   "name": "python",
   "nbconvert_exporter": "python",
   "pygments_lexer": "ipython3",
   "version": "3.9.5"
  },
  "orig_nbformat": 4,
  "vscode": {
   "interpreter": {
    "hash": "11938c6bc6919ae2720b4d5011047913343b08a43b18698fd82dedb0d4417594"
   }
  }
 },
 "nbformat": 4,
 "nbformat_minor": 2
}
