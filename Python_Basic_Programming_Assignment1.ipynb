{
 "cells": [
  {
   "cell_type": "markdown",
   "metadata": {},
   "source": [
    "1.\tWrite a Python program to print \"Hello Python\"?"
   ]
  },
  {
   "cell_type": "code",
   "execution_count": 3,
   "metadata": {},
   "outputs": [
    {
     "name": "stdout",
     "output_type": "stream",
     "text": [
      "Hello Python\n"
     ]
    }
   ],
   "source": [
    "print(\"Hello Python\")"
   ]
  },
  {
   "cell_type": "markdown",
   "metadata": {},
   "source": [
    "2.\tWrite a Python program to do arithmetical operations addition and division.?"
   ]
  },
  {
   "cell_type": "code",
   "execution_count": 2,
   "metadata": {},
   "outputs": [
    {
     "name": "stdout",
     "output_type": "stream",
     "text": [
      "Sum is 30\n",
      "Division is 0.5\n"
     ]
    }
   ],
   "source": [
    "var1 = 10\n",
    "var2 = 20\n",
    "totalsum = var1 + var2\n",
    "totaldivision = var1/var2\n",
    "print (f\"Sum is {totalsum}\")\n",
    "print (f\"Division is {totaldivision}\")"
   ]
  },
  {
   "cell_type": "markdown",
   "metadata": {},
   "source": [
    "3.\tWrite a Python program to find the area of a triangle?"
   ]
  },
  {
   "cell_type": "code",
   "execution_count": 4,
   "metadata": {},
   "outputs": [
    {
     "name": "stdout",
     "output_type": "stream",
     "text": [
      "Area of Triangle is 6.0\n"
     ]
    }
   ],
   "source": [
    "TriangleBase = 3\n",
    "TriangleHeight = 4\n",
    "TriangleArea = 1/2 * TriangleBase * TriangleHeight\n",
    "print (f\"Area of Triangle is {TriangleArea}\")"
   ]
  },
  {
   "cell_type": "markdown",
   "metadata": {},
   "source": [
    "4.\tWrite a Python program to swap two variables?"
   ]
  },
  {
   "cell_type": "code",
   "execution_count": 7,
   "metadata": {},
   "outputs": [
    {
     "name": "stdout",
     "output_type": "stream",
     "text": [
      "Variable 1 before swapping 10\n",
      "Variable 2 before swapping 20\n",
      "\n",
      "Variable 1 after swapping 20\n",
      "Variable 2 after swapping 10\n"
     ]
    }
   ],
   "source": [
    "var1 = 10\n",
    "var2 = 20\n",
    "print(f\"Variable 1 before swapping {var1}\")\n",
    "print(f\"Variable 2 before swapping {var2}\")\n",
    "tempvar = var1\n",
    "var1 = var2\n",
    "var2 = tempvar\n",
    "print(f\"\\nVariable 1 after swapping {var1}\")\n",
    "print(f\"Variable 2 after swapping {var2}\")\n"
   ]
  },
  {
   "cell_type": "markdown",
   "metadata": {},
   "source": [
    "5.\tWrite a Python program to generate a random number?"
   ]
  },
  {
   "cell_type": "code",
   "execution_count": 22,
   "metadata": {},
   "outputs": [
    {
     "name": "stdout",
     "output_type": "stream",
     "text": [
      "96\n"
     ]
    }
   ],
   "source": [
    "from random import randint\n",
    "print(randint(1,100))"
   ]
  }
 ],
 "metadata": {
  "kernelspec": {
   "display_name": "Python 3.9.5 64-bit",
   "language": "python",
   "name": "python3"
  },
  "language_info": {
   "codemirror_mode": {
    "name": "ipython",
    "version": 3
   },
   "file_extension": ".py",
   "mimetype": "text/x-python",
   "name": "python",
   "nbconvert_exporter": "python",
   "pygments_lexer": "ipython3",
   "version": "3.9.5"
  },
  "orig_nbformat": 4,
  "vscode": {
   "interpreter": {
    "hash": "11938c6bc6919ae2720b4d5011047913343b08a43b18698fd82dedb0d4417594"
   }
  }
 },
 "nbformat": 4,
 "nbformat_minor": 2
}
