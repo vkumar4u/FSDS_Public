{
 "cells": [
  {
   "cell_type": "markdown",
   "metadata": {},
   "source": [
    "Why are functions advantageous to have in your programs?\n",
    "\n",
    "As this code is not required tp type again and again, it is helpful in removing redundancy"
   ]
  },
  {
   "cell_type": "markdown",
   "metadata": {},
   "source": [
    "When does the code in a function run: when it's specified or when it's called?\n",
    "\n",
    "It runs only when its called by specifying the function name and parameters (if required in function definition)"
   ]
  },
  {
   "cell_type": "markdown",
   "metadata": {},
   "source": [
    "What statement creates a function?\n",
    "\n",
    "def keyword is used for creating the function\n",
    "\n",
    "example - def function_name():"
   ]
  },
  {
   "cell_type": "markdown",
   "metadata": {},
   "source": [
    "What is the difference between a function and a function call?\n",
    "\n",
    "Function is the definition where you write the actual python code which you want to be executed\n",
    "\n",
    "Function call is writing name of the function that you want to execute in your program. This will execute all the program whatever is written as part of function definition"
   ]
  },
  {
   "cell_type": "markdown",
   "metadata": {},
   "source": [
    "How many global scopes are there in a Python program? How many local scopes?\n",
    "\n",
    "2 Global scopes are there where one can be defined at global level while other are system defined variables/methods\n",
    "\n",
    "2 Local scope are there where one is defined within the function level and another level can be in Enclosing function level (function within function)"
   ]
  },
  {
   "cell_type": "markdown",
   "metadata": {},
   "source": [
    "What happens to variables in a local scope when the function call returns?\n",
    "\n",
    "Any manipulation related to local variable will happen at local function level and it will lose its value outside its function boundary"
   ]
  },
  {
   "cell_type": "markdown",
   "metadata": {},
   "source": [
    "What is the concept of a return value? Is it possible to have a return value in an expression?\n",
    "\n",
    "When you want output from a function to be stored in certain variable, then you can use return statement in your function definition"
   ]
  },
  {
   "cell_type": "markdown",
   "metadata": {},
   "source": [
    "If a function does not have a return statement, what is the return value of a call to that function?\n",
    "\n",
    "Nonetype"
   ]
  },
  {
   "cell_type": "markdown",
   "metadata": {},
   "source": [
    "How do you make a function variable refer to the global variable?\n",
    "\n",
    "By using global keyword"
   ]
  },
  {
   "cell_type": "markdown",
   "metadata": {},
   "source": [
    "What is the data type of None?\n",
    "\n",
    "Nonetype"
   ]
  },
  {
   "cell_type": "markdown",
   "metadata": {},
   "source": [
    "What does the sentence import areallyourpetsnamederic do?\n",
    "\n",
    "It will import all the definitions, variables, functions defined in areallyourpetsnamederic into your current program for use"
   ]
  },
  {
   "cell_type": "markdown",
   "metadata": {},
   "source": [
    "If you had a bacon() feature in a spam module, what would you call it after importing spam?\n",
    "\n",
    "scam.bacon()"
   ]
  },
  {
   "cell_type": "markdown",
   "metadata": {},
   "source": [
    "What can you do to save a programme from crashing if it encounters an error?\n",
    "\n",
    "Implement Error Hnadling mechanisms to prevenet any crash for the program"
   ]
  },
  {
   "cell_type": "markdown",
   "metadata": {},
   "source": [
    "What is the purpose of the try clause? What is the purpose of the except clause?\n",
    "\n",
    "try block will execute the code mentioned in its block and if it encounters any error during the execution, it will pass the control to except block. Based on the code written under except block, error will be displayed to user instead of abruptly closing the program"
   ]
  }
 ],
 "metadata": {
  "language_info": {
   "name": "python"
  },
  "orig_nbformat": 4
 },
 "nbformat": 4,
 "nbformat_minor": 2
}
